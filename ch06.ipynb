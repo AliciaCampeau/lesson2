{
 "cells": [
  {
   "cell_type": "markdown",
   "id": "98af6432-a5e0-4241-ba22-1d358198bfcd",
   "metadata": {},
   "source": [
    "#### 6.2"
   ]
  },
  {
   "cell_type": "code",
   "execution_count": 3,
   "id": "6fd02391-a450-4f15-8579-efa387d2f068",
   "metadata": {},
   "outputs": [],
   "source": [
    "country_codes = {'Finland':'fi','South Africa':'za','Nepal':'np'}"
   ]
  },
  {
   "cell_type": "code",
   "execution_count": 4,
   "id": "c3406798-5d53-4920-84e5-e6fd24de80b9",
   "metadata": {},
   "outputs": [
    {
     "data": {
      "text/plain": [
       "{'Finland': 'fi', 'South Africa': 'za', 'Nepal': 'np'}"
      ]
     },
     "execution_count": 4,
     "metadata": {},
     "output_type": "execute_result"
    }
   ],
   "source": [
    "country_codes\n"
   ]
  },
  {
   "cell_type": "code",
   "execution_count": 5,
   "id": "bc06175b-b054-4335-8ee0-6d36d3a34e79",
   "metadata": {},
   "outputs": [
    {
     "data": {
      "text/plain": [
       "3"
      ]
     },
     "execution_count": 5,
     "metadata": {},
     "output_type": "execute_result"
    }
   ],
   "source": [
    "len(country_codes)"
   ]
  },
  {
   "cell_type": "code",
   "execution_count": 7,
   "id": "3251ab3f-9b79-4bd5-994d-ae0b3a189f84",
   "metadata": {},
   "outputs": [
    {
     "name": "stdout",
     "output_type": "stream",
     "text": [
      "country_codes is empty\n"
     ]
    }
   ],
   "source": [
    "country_codes.clear()\n",
    "if country_codes:\n",
    "    print(f'country_codes is not empty')\n",
    "else:\n",
    "    print('country_codes is empty')"
   ]
  }
 ],
 "metadata": {
  "kernelspec": {
   "display_name": "Python 3 (ipykernel)",
   "language": "python",
   "name": "python3"
  },
  "language_info": {
   "codemirror_mode": {
    "name": "ipython",
    "version": 3
   },
   "file_extension": ".py",
   "mimetype": "text/x-python",
   "name": "python",
   "nbconvert_exporter": "python",
   "pygments_lexer": "ipython3",
   "version": "3.9.7"
  }
 },
 "nbformat": 4,
 "nbformat_minor": 5
}
