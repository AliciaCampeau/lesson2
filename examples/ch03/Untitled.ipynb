{
 "cells": [
  {
   "cell_type": "code",
   "execution_count": null,
   "id": "884f73e6-3a94-4aa2-8bca-e6da6803e542",
   "metadata": {},
   "outputs": [],
   "source": [
    "for product in products:\n",
    "    while product<=50:\n",
    "        product=product*3\n",
    "        print(product)"
   ]
  }
 ],
 "metadata": {
  "kernelspec": {
   "display_name": "Python 3 (ipykernel)",
   "language": "python",
   "name": "python3"
  },
  "language_info": {
   "codemirror_mode": {
    "name": "ipython",
    "version": 3
   },
   "file_extension": ".py",
   "mimetype": "text/x-python",
   "name": "python",
   "nbconvert_exporter": "python",
   "pygments_lexer": "ipython3",
   "version": "3.9.7"
  }
 },
 "nbformat": 4,
 "nbformat_minor": 5
}
