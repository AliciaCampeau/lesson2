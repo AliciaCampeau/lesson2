{
 "cells": [
  {
   "cell_type": "code",
   "execution_count": null,
   "id": "df6e042d-d924-4a2f-a982-7763260ddbca",
   "metadata": {},
   "outputs": [],
   "source": [
    "import fs,{readFileSync} from 'fs'"
   ]
  }
 ],
 "metadata": {
  "kernelspec": {
   "display_name": "JavaScript (Node.js)",
   "language": "javascript",
   "name": "javascript"
  },
  "language_info": {
   "file_extension": ".js",
   "mimetype": "application/javascript",
   "name": "javascript",
   "version": "16.13.1"
  }
 },
 "nbformat": 4,
 "nbformat_minor": 5
}
